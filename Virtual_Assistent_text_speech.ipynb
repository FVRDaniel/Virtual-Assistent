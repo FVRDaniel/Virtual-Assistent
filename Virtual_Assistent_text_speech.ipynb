{
  "cells": [
    {
      "cell_type": "markdown",
      "metadata": {
        "id": "view-in-github",
        "colab_type": "text"
      },
      "source": [
        "<a href=\"https://colab.research.google.com/github/FVRDaniel/Virtual-Assistent/blob/main/Virtual_Assistent_text_speech.ipynb\" target=\"_parent\"><img src=\"https://colab.research.google.com/assets/colab-badge.svg\" alt=\"Open In Colab\"/></a>"
      ]
    },
    {
      "cell_type": "code",
      "execution_count": 2,
      "metadata": {
        "colab": {
          "base_uri": "https://localhost:8080/"
        },
        "id": "h8S6oNVlaqxN",
        "outputId": "6b72e718-e8b8-4c33-b537-c9279d9e61b6"
      },
      "outputs": [
        {
          "output_type": "stream",
          "name": "stdout",
          "text": [
            "Collecting pyttsx3\n",
            "  Downloading pyttsx3-2.98-py3-none-any.whl.metadata (3.8 kB)\n",
            "Downloading pyttsx3-2.98-py3-none-any.whl (34 kB)\n",
            "Installing collected packages: pyttsx3\n",
            "Successfully installed pyttsx3-2.98\n"
          ]
        }
      ],
      "source": [
        "pip install pyttsx3"
      ]
    },
    {
      "cell_type": "code",
      "execution_count": 3,
      "metadata": {
        "colab": {
          "base_uri": "https://localhost:8080/"
        },
        "id": "Z6reP_m7d5AU",
        "outputId": "1730e16e-5958-4b76-b248-94b49dd4a20b"
      },
      "outputs": [
        {
          "output_type": "stream",
          "name": "stdout",
          "text": [
            "Collecting gTTS\n",
            "  Downloading gTTS-2.5.4-py3-none-any.whl.metadata (4.1 kB)\n",
            "Requirement already satisfied: requests<3,>=2.27 in /usr/local/lib/python3.11/dist-packages (from gTTS) (2.32.3)\n",
            "Requirement already satisfied: click<8.2,>=7.1 in /usr/local/lib/python3.11/dist-packages (from gTTS) (8.1.8)\n",
            "Requirement already satisfied: charset-normalizer<4,>=2 in /usr/local/lib/python3.11/dist-packages (from requests<3,>=2.27->gTTS) (3.4.1)\n",
            "Requirement already satisfied: idna<4,>=2.5 in /usr/local/lib/python3.11/dist-packages (from requests<3,>=2.27->gTTS) (3.10)\n",
            "Requirement already satisfied: urllib3<3,>=1.21.1 in /usr/local/lib/python3.11/dist-packages (from requests<3,>=2.27->gTTS) (2.3.0)\n",
            "Requirement already satisfied: certifi>=2017.4.17 in /usr/local/lib/python3.11/dist-packages (from requests<3,>=2.27->gTTS) (2025.1.31)\n",
            "Downloading gTTS-2.5.4-py3-none-any.whl (29 kB)\n",
            "Installing collected packages: gTTS\n",
            "Successfully installed gTTS-2.5.4\n"
          ]
        }
      ],
      "source": [
        "!pip install gTTS"
      ]
    },
    {
      "cell_type": "code",
      "execution_count": 3,
      "metadata": {
        "id": "B65T3pifhB3O"
      },
      "outputs": [],
      "source": []
    },
    {
      "cell_type": "code",
      "execution_count": 4,
      "metadata": {
        "colab": {
          "base_uri": "https://localhost:8080/"
        },
        "id": "WkAFZIf2eGcj",
        "outputId": "3f765218-62dd-4c8b-b26a-435466cab7f1"
      },
      "outputs": [
        {
          "output_type": "execute_result",
          "data": {
            "text/plain": [
              "32512"
            ]
          },
          "metadata": {},
          "execution_count": 4
        }
      ],
      "source": [
        "from gtts import gTTS\n",
        "import os\n",
        "\n",
        "# Texto a ser convertido em fala\n",
        "text = \"Hello, world!\"\n",
        "\n",
        "# Criação do objeto gTTS\n",
        "tts = gTTS(text=text, lang='en')\n",
        "\n",
        "# Salvar o arquivo de áudio\n",
        "tts.save(\"hello.mp3\")\n",
        "\n",
        "# Reproduzir o áudio no Colab\n",
        "os.system(\"mpg321 hello.mp3\")"
      ]
    },
    {
      "cell_type": "code",
      "execution_count": 5,
      "metadata": {
        "colab": {
          "base_uri": "https://localhost:8080/"
        },
        "id": "JxJyvOSzemfJ",
        "outputId": "4486eed8-d938-4c79-8b0f-dad7ed0a7e8f"
      },
      "outputs": [
        {
          "output_type": "stream",
          "name": "stdout",
          "text": [
            "Requirement already satisfied: gTTS in /usr/local/lib/python3.11/dist-packages (2.5.4)\n",
            "Collecting googletrans\n",
            "  Downloading googletrans-4.0.2-py3-none-any.whl.metadata (10 kB)\n",
            "Requirement already satisfied: requests<3,>=2.27 in /usr/local/lib/python3.11/dist-packages (from gTTS) (2.32.3)\n",
            "Requirement already satisfied: click<8.2,>=7.1 in /usr/local/lib/python3.11/dist-packages (from gTTS) (8.1.8)\n",
            "Requirement already satisfied: httpx>=0.27.2 in /usr/local/lib/python3.11/dist-packages (from httpx[http2]>=0.27.2->googletrans) (0.28.1)\n",
            "Requirement already satisfied: anyio in /usr/local/lib/python3.11/dist-packages (from httpx>=0.27.2->httpx[http2]>=0.27.2->googletrans) (3.7.1)\n",
            "Requirement already satisfied: certifi in /usr/local/lib/python3.11/dist-packages (from httpx>=0.27.2->httpx[http2]>=0.27.2->googletrans) (2025.1.31)\n",
            "Requirement already satisfied: httpcore==1.* in /usr/local/lib/python3.11/dist-packages (from httpx>=0.27.2->httpx[http2]>=0.27.2->googletrans) (1.0.7)\n",
            "Requirement already satisfied: idna in /usr/local/lib/python3.11/dist-packages (from httpx>=0.27.2->httpx[http2]>=0.27.2->googletrans) (3.10)\n",
            "Requirement already satisfied: h11<0.15,>=0.13 in /usr/local/lib/python3.11/dist-packages (from httpcore==1.*->httpx>=0.27.2->httpx[http2]>=0.27.2->googletrans) (0.14.0)\n",
            "Requirement already satisfied: h2<5,>=3 in /usr/local/lib/python3.11/dist-packages (from httpx[http2]>=0.27.2->googletrans) (4.2.0)\n",
            "Requirement already satisfied: charset-normalizer<4,>=2 in /usr/local/lib/python3.11/dist-packages (from requests<3,>=2.27->gTTS) (3.4.1)\n",
            "Requirement already satisfied: urllib3<3,>=1.21.1 in /usr/local/lib/python3.11/dist-packages (from requests<3,>=2.27->gTTS) (2.3.0)\n",
            "Requirement already satisfied: hyperframe<7,>=6.1 in /usr/local/lib/python3.11/dist-packages (from h2<5,>=3->httpx[http2]>=0.27.2->googletrans) (6.1.0)\n",
            "Requirement already satisfied: hpack<5,>=4.1 in /usr/local/lib/python3.11/dist-packages (from h2<5,>=3->httpx[http2]>=0.27.2->googletrans) (4.1.0)\n",
            "Requirement already satisfied: sniffio>=1.1 in /usr/local/lib/python3.11/dist-packages (from anyio->httpx>=0.27.2->httpx[http2]>=0.27.2->googletrans) (1.3.1)\n",
            "Downloading googletrans-4.0.2-py3-none-any.whl (18 kB)\n",
            "Installing collected packages: googletrans\n",
            "Successfully installed googletrans-4.0.2\n"
          ]
        }
      ],
      "source": [
        "!pip install gTTS googletrans\n",
        "\n",
        "from gtts import gTTS\n",
        "from googletrans import Translator\n",
        "from IPython.display import Audio, display\n",
        "\n",
        "def text_to_speech(text, lang):\n",
        "    try:\n",
        "        tts = gTTS(text=text, lang=lang)\n",
        "        tts.save(\"output.mp3\")\n",
        "        display(Audio(\"output.mp3\", autoplay=True))\n",
        "        print(f\"Áudio reproduzido com sucesso na língua {lang} .\")\n",
        "    except Exception as e:\n",
        "        print(f\"Ocorreu um erro: {e}\")\n"
      ]
    },
    {
      "cell_type": "code",
      "execution_count": null,
      "metadata": {
        "colab": {
          "background_save": true,
          "base_uri": "https://localhost:8080/",
          "height": 197
        },
        "id": "KycckQLXezPe",
        "outputId": "60c3854f-e57b-4158-b481-d0e93d35fc9f"
      },
      "outputs": [
        {
          "name": "stdout",
          "output_type": "stream",
          "text": [
            "Digite o texto que você deseja tranformar em áudio: OI\n"
          ]
        },
        {
          "output_type": "stream",
          "name": "stderr",
          "text": [
            "<ipython-input-6-3ab78aecf481>:12: RuntimeWarning: coroutine 'Translator.translate' was never awaited\n",
            "  translated_text = translate_text(text, target_lang='zh-CN')\n",
            "RuntimeWarning: Enable tracemalloc to get the object allocation traceback\n",
            "WARNING:gtts.lang:'zh-CN' has been deprecated, falling back to 'zh-CN'. This fallback will be removed in a future version.\n"
          ]
        },
        {
          "output_type": "stream",
          "name": "stdout",
          "text": [
            "Ocorreu um erro durante a tradução: 'coroutine' object has no attribute 'text'\n"
          ]
        },
        {
          "output_type": "display_data",
          "data": {
            "text/plain": [
              "<IPython.lib.display.Audio object>"
            ],
            "text/html": [
              "\n",
              "                <audio  controls=\"controls\" autoplay=\"autoplay\">\n",
              "                    <source src=\"data:audio/mpeg;base64,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\" type=\"audio/mpeg\" />\n",
              "                    Your browser does not support the audio element.\n",
              "                </audio>\n",
              "              "
            ]
          },
          "metadata": {}
        },
        {
          "output_type": "stream",
          "name": "stdout",
          "text": [
            "Áudio reproduzido com sucesso na língua zh-CN .\n"
          ]
        }
      ],
      "source": [
        "def translate_text(text, target_lang):\n",
        "    try:\n",
        "        translator = Translator()\n",
        "        translated = translator.translate(text, dest=target_lang)\n",
        "        return translated.text\n",
        "    except Exception as e:\n",
        "        print(f\"Ocorreu um erro durante a tradução: {e}\")\n",
        "        return text\n",
        "\n",
        "text = input(\"Digite o texto que você deseja tranformar em áudio: \")\n",
        "\n",
        "translated_text = translate_text(text, target_lang='zh-CN')\n",
        "text_to_speech(translated_text, lang='zh-CN')\n",
        "\n",
        "text = input(\"Digite o texto que você deseja tranformar em áudio: \")\n",
        "\n",
        "translated_text = translate_text(text, target_lang='en')\n",
        "text_to_speech(translated_text, lang='en')\n",
        "\n",
        "text = input(\"Digite o texto que você deseja tranformar em áudio: \")\n",
        "\n",
        "translated_text = translate_text(text, target_lang='es')\n",
        "text_to_speech(translated_text, lang='es')"
      ]
    },
    {
      "cell_type": "code",
      "execution_count": null,
      "metadata": {
        "id": "G8Um3UKTfOFH"
      },
      "outputs": [],
      "source": [
        "from gtts import gTTS\n",
        "import os\n",
        "from google.colab import files\n",
        "\n",
        "# Texto em português\n",
        "text_pt = \"Olá, mundo!\"\n",
        "# Texto em francês\n",
        "text_fr = \"Bonjour, le monde!\"\n",
        "\n",
        "# Criação do objeto gTTS para português\n",
        "tts_pt = gTTS(text=text_pt, lang='pt')\n",
        "tts_pt.save(\"ola_mundo.mp3\")\n",
        "\n",
        "# Criação do objeto gTTS para francês\n",
        "tts_fr = gTTS(text=text_fr, lang='fr')\n",
        "tts_fr.save(\"bonjour_le_monde.mp3\")\n",
        "\n",
        "# Reproduzir os áudios no Colab\n",
        "os.system(\"mpg321 ola_mundo.mp3\")\n",
        "os.system(\"mpg321 bonjour_le_monde.mp3\")\n",
        "\n",
        "# Baixar os arquivos de áudio\n",
        "files.download(\"ola_mundo.mp3\")\n",
        "files.download(\"bonjour_le_monde.mp3\")\n"
      ]
    }
  ],
  "metadata": {
    "accelerator": "GPU",
    "colab": {
      "gpuType": "T4",
      "provenance": [],
      "authorship_tag": "ABX9TyPfVQWldG90ni9Wkh0Ho911",
      "include_colab_link": true
    },
    "kernelspec": {
      "display_name": "Python 3",
      "name": "python3"
    },
    "language_info": {
      "name": "python"
    }
  },
  "nbformat": 4,
  "nbformat_minor": 0
}